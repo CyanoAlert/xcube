{
 "cells": [
  {
   "cell_type": "markdown",
   "metadata": {},
   "source": [
    "See http://pandas.pydata.org/pandas-docs/stable/timeseries.html#offset-aliases"
   ]
  },
  {
   "cell_type": "code",
   "execution_count": 43,
   "metadata": {},
   "outputs": [],
   "source": [
    "import pandas as pd\n",
    "import numpy as np"
   ]
  },
  {
   "cell_type": "code",
   "execution_count": 44,
   "metadata": {},
   "outputs": [],
   "source": [
    "rng = pd.date_range('2018-07-20', periods=120, freq='D')"
   ]
  },
  {
   "cell_type": "code",
   "execution_count": 45,
   "metadata": {},
   "outputs": [],
   "source": [
    "ts = pd.Series(np.random.randint(0, 500, len(rng)), index=rng)"
   ]
  },
  {
   "cell_type": "code",
   "execution_count": 61,
   "metadata": {},
   "outputs": [
    {
     "data": {
      "text/plain": [
       "2018-07-20    188.125\n",
       "2018-07-28    290.125\n",
       "2018-08-05    221.375\n",
       "2018-08-13    248.375\n",
       "2018-08-21    241.875\n",
       "2018-08-29    188.375\n",
       "2018-09-06    319.875\n",
       "2018-09-14    203.750\n",
       "2018-09-22    293.625\n",
       "2018-09-30    182.875\n",
       "2018-10-08    230.750\n",
       "2018-10-16    314.000\n",
       "2018-10-24    245.875\n",
       "2018-11-01    269.250\n",
       "2018-11-09    278.250\n",
       "dtype: float64"
      ]
     },
     "execution_count": 61,
     "metadata": {},
     "output_type": "execute_result"
    }
   ],
   "source": [
    "ts.resample('8D', closed='left').mean()"
   ]
  },
  {
   "cell_type": "code",
   "execution_count": 65,
   "metadata": {},
   "outputs": [
    {
     "data": {
      "text/plain": [
       "[188.125,\n",
       " 290.125,\n",
       " 221.375,\n",
       " 248.375,\n",
       " 241.875,\n",
       " 188.375,\n",
       " 319.875,\n",
       " 203.75,\n",
       " 293.625,\n",
       " 182.875,\n",
       " 230.75,\n",
       " 314.0,\n",
       " 245.875,\n",
       " 269.25,\n",
       " 278.25]"
      ]
     },
     "execution_count": 65,
     "metadata": {},
     "output_type": "execute_result"
    }
   ],
   "source": [
    "[ts[i * 8:(i + 1) * 8].mean() for i in range(120 // 8)]"
   ]
  },
  {
   "cell_type": "code",
   "execution_count": 66,
   "metadata": {},
   "outputs": [
    {
     "data": {
      "text/plain": [
       "2018-07-12    291.000000\n",
       "2018-07-20    176.125000\n",
       "2018-07-28    302.875000\n",
       "2018-08-05    244.250000\n",
       "2018-08-13    208.375000\n",
       "2018-08-21    235.625000\n",
       "2018-08-29    231.500000\n",
       "2018-09-06    276.000000\n",
       "2018-09-14    211.000000\n",
       "2018-09-22    290.500000\n",
       "2018-09-30    181.125000\n",
       "2018-10-08    256.500000\n",
       "2018-10-16    321.625000\n",
       "2018-10-24    237.500000\n",
       "2018-11-01    245.625000\n",
       "2018-11-09    298.857143\n",
       "dtype: float64"
      ]
     },
     "execution_count": 66,
     "metadata": {},
     "output_type": "execute_result"
    }
   ],
   "source": [
    "ts.resample('8D', closed='right').mean()"
   ]
  },
  {
   "cell_type": "code",
   "execution_count": 71,
   "metadata": {},
   "outputs": [
    {
     "data": {
      "text/plain": [
       "[nan, nan, nan, nan, nan, nan, nan, nan, nan, nan, nan, nan, nan, nan, nan]"
      ]
     },
     "execution_count": 71,
     "metadata": {},
     "output_type": "execute_result"
    }
   ],
   "source": [
    "[ts[(i + 1) * 8:(i + 1) * 8].mean() for i in range(120 // 8)]"
   ]
  },
  {
   "cell_type": "code",
   "execution_count": null,
   "metadata": {},
   "outputs": [],
   "source": []
  }
 ],
 "metadata": {
  "kernelspec": {
   "display_name": "Python 3",
   "language": "python",
   "name": "python3"
  },
  "language_info": {
   "codemirror_mode": {
    "name": "ipython",
    "version": 3
   },
   "file_extension": ".py",
   "mimetype": "text/x-python",
   "name": "python",
   "nbconvert_exporter": "python",
   "pygments_lexer": "ipython3",
   "version": "3.6.5"
  }
 },
 "nbformat": 4,
 "nbformat_minor": 2
}
