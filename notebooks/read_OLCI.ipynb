{
 "cells": [
  {
   "cell_type": "code",
   "execution_count": 1,
   "metadata": {
    "collapsed": true
   },
   "outputs": [],
   "source": [
    "import xarray as xr"
   ]
  },
  {
   "cell_type": "code",
   "execution_count": 2,
   "metadata": {
    "collapsed": true
   },
   "outputs": [],
   "source": [
    "import numpy as np\n",
    "import matplotlib.pyplot as plt\n",
    "%matplotlib inline\n",
    "from mpl_toolkits.basemap import Basemap"
   ]
  },
  {
   "cell_type": "code",
   "execution_count": 3,
   "metadata": {
    "collapsed": true
   },
   "outputs": [],
   "source": [
    "dat = xr.open_dataset('../07/01/O_L2_0021_GCWNS_2017182100224_v1.0.nc')"
   ]
  },
  {
   "cell_type": "code",
   "execution_count": 4,
   "metadata": {},
   "outputs": [
    {
     "data": {
      "text/plain": [
       "<xarray.Dataset>\n",
       "Dimensions:                                            (tp_x: 65, tp_y: 3302, x: 4032, y: 3302)\n",
       "Coordinates:\n",
       "    lat                                                (y, x) float64 ...\n",
       "    lon                                                (y, x) float64 ...\n",
       "Dimensions without coordinates: tp_x, tp_y, x, y\n",
       "Data variables:\n",
       "    metadata                                           int8 ...\n",
       "    pixel_classif_flags                                (y, x) int16 ...\n",
       "    quality_flags                                      (y, x) uint32 ...\n",
       "    rtoa_1                                             (y, x) float32 ...\n",
       "    rtoa_2                                             (y, x) float32 ...\n",
       "    rtoa_3                                             (y, x) float32 ...\n",
       "    rtoa_4                                             (y, x) float32 ...\n",
       "    rtoa_5                                             (y, x) float32 ...\n",
       "    rtoa_6                                             (y, x) float32 ...\n",
       "    rtoa_7                                             (y, x) float32 ...\n",
       "    rtoa_8                                             (y, x) float32 ...\n",
       "    rtoa_9                                             (y, x) float32 ...\n",
       "    rtoa_10                                            (y, x) float32 ...\n",
       "    rtoa_11                                            (y, x) float32 ...\n",
       "    rtoa_12                                            (y, x) float32 ...\n",
       "    rtoa_13                                            (y, x) float32 ...\n",
       "    rtoa_14                                            (y, x) float32 ...\n",
       "    rtoa_15                                            (y, x) float32 ...\n",
       "    rtoa_16                                            (y, x) float32 ...\n",
       "    rtoa_17                                            (y, x) float32 ...\n",
       "    rtoa_18                                            (y, x) float32 ...\n",
       "    rtoa_19                                            (y, x) float32 ...\n",
       "    rtoa_20                                            (y, x) float32 ...\n",
       "    rtoa_21                                            (y, x) float32 ...\n",
       "    rrs_1                                              (y, x) float32 ...\n",
       "    rrs_2                                              (y, x) float32 ...\n",
       "    rrs_3                                              (y, x) float32 ...\n",
       "    rrs_4                                              (y, x) float32 ...\n",
       "    rrs_5                                              (y, x) float32 ...\n",
       "    rrs_6                                              (y, x) float32 ...\n",
       "    rrs_7                                              (y, x) float32 ...\n",
       "    rrs_8                                              (y, x) float32 ...\n",
       "    rrs_9                                              (y, x) float32 ...\n",
       "    rrs_10                                             (y, x) float32 ...\n",
       "    rrs_11                                             (y, x) float32 ...\n",
       "    rrs_12                                             (y, x) float32 ...\n",
       "    rrs_16                                             (y, x) float32 ...\n",
       "    rrs_17                                             (y, x) float32 ...\n",
       "    rrs_18                                             (y, x) float32 ...\n",
       "    rrs_21                                             (y, x) float32 ...\n",
       "    rhown_1                                            (y, x) float32 ...\n",
       "    rhown_2                                            (y, x) float32 ...\n",
       "    rhown_3                                            (y, x) float32 ...\n",
       "    rhown_4                                            (y, x) float32 ...\n",
       "    rhown_5                                            (y, x) float32 ...\n",
       "    rhown_6                                            (y, x) float32 ...\n",
       "    rhown_7                                            (y, x) float32 ...\n",
       "    rhown_8                                            (y, x) float32 ...\n",
       "    rhown_9                                            (y, x) float32 ...\n",
       "    rhown_10                                           (y, x) float32 ...\n",
       "    rhown_11                                           (y, x) float32 ...\n",
       "    rhown_12                                           (y, x) float32 ...\n",
       "    rhown_16                                           (y, x) float32 ...\n",
       "    rhown_17                                           (y, x) float32 ...\n",
       "    rhown_18                                           (y, x) float32 ...\n",
       "    rhown_21                                           (y, x) float32 ...\n",
       "    iop_apig                                           (y, x) float32 ...\n",
       "    iop_adet                                           (y, x) float32 ...\n",
       "    iop_agelb                                          (y, x) float32 ...\n",
       "    iop_bpart                                          (y, x) float32 ...\n",
       "    iop_bwit                                           (y, x) float32 ...\n",
       "    iop_adg                                            (y, x) float32 ...\n",
       "    iop_atot                                           (y, x) float32 ...\n",
       "    iop_btot                                           (y, x) float32 ...\n",
       "    kd489                                              (y, x) float32 ...\n",
       "    kdmin                                              (y, x) float32 ...\n",
       "    kd_z90max                                          (y, x) float32 ...\n",
       "    conc_tsm                                           (y, x) float32 ...\n",
       "    conc_chl                                           (y, x) float32 ...\n",
       "    unc_apig                                           (y, x) float32 ...\n",
       "    unc_adet                                           (y, x) float32 ...\n",
       "    unc_agelb                                          (y, x) float32 ...\n",
       "    unc_bpart                                          (y, x) float32 ...\n",
       "    unc_bwit                                           (y, x) float32 ...\n",
       "    unc_adg                                            (y, x) float32 ...\n",
       "    unc_atot                                           (y, x) float32 ...\n",
       "    unc_btot                                           (y, x) float32 ...\n",
       "    unc_tsm                                            (y, x) float32 ...\n",
       "    unc_chl                                            (y, x) float32 ...\n",
       "    unc_kd489                                          (y, x) float32 ...\n",
       "    unc_kdmin                                          (y, x) float32 ...\n",
       "    unc_kd_z90max                                      (y, x) float32 ...\n",
       "    c2rcc_flags                                        (y, x) uint32 ...\n",
       "    spm_nechad_620                                     (y, x) float32 ...\n",
       "    spm_nechad_665                                     (y, x) float32 ...\n",
       "    spm_nechad_681                                     (y, x) float32 ...\n",
       "    spm_nechad_708                                     (y, x) float32 ...\n",
       "    spm_nechad_865                                     (y, x) float32 ...\n",
       "    spm_vito_1020                                      (y, x) float32 ...\n",
       "    spm_lov_665_rhone_linear                           (y, x) float32 ...\n",
       "    spm_lov_665_rhone_nolinear                         (y, x) float32 ...\n",
       "    spm_lov_665_gironde                                (y, x) float32 ...\n",
       "    spm_lov_865_gironde                                (y, x) float32 ...\n",
       "    spm_lov_865_bourgneuf                              (y, x) float32 ...\n",
       "    tur_nechad_620                                     (y, x) float32 ...\n",
       "    tur_nechad_665                                     (y, x) float32 ...\n",
       "    tur_nechad_681                                     (y, x) float32 ...\n",
       "    tur_nechad_708                                     (y, x) float32 ...\n",
       "    tur_nechad_865                                     (y, x) float32 ...\n",
       "    tur_lov_665_rhone                                  (y, x) float32 ...\n",
       "    Bbp_443                                            (y, x) float32 ...\n",
       "    chl_gilerson_2010_red_edge                         (y, x) float32 ...\n",
       "    chl_lov_bourgneuf                                  (y, x) float32 ...\n",
       "    zsd_doron_490                                      (y, x) float32 ...\n",
       "    rrs_665_turbid_flag                                (y, x) float32 ...\n",
       "    TP_latitude                                        (tp_y, tp_x) float32 ...\n",
       "    TP_longitude                                       (tp_y, tp_x) float32 ...\n",
       "    OAA                                                (tp_y, tp_x) float32 ...\n",
       "    OZA                                                (tp_y, tp_x) float32 ...\n",
       "    SAA                                                (tp_y, tp_x) float32 ...\n",
       "    SZA                                                (tp_y, tp_x) float32 ...\n",
       "    atmospheric_temperature_profile_pressure_level_1   (tp_y, tp_x) float32 ...\n",
       "    atmospheric_temperature_profile_pressure_level_2   (tp_y, tp_x) float32 ...\n",
       "    atmospheric_temperature_profile_pressure_level_3   (tp_y, tp_x) float32 ...\n",
       "    atmospheric_temperature_profile_pressure_level_4   (tp_y, tp_x) float32 ...\n",
       "    atmospheric_temperature_profile_pressure_level_5   (tp_y, tp_x) float32 ...\n",
       "    atmospheric_temperature_profile_pressure_level_6   (tp_y, tp_x) float32 ...\n",
       "    atmospheric_temperature_profile_pressure_level_7   (tp_y, tp_x) float32 ...\n",
       "    atmospheric_temperature_profile_pressure_level_8   (tp_y, tp_x) float32 ...\n",
       "    atmospheric_temperature_profile_pressure_level_9   (tp_y, tp_x) float32 ...\n",
       "    atmospheric_temperature_profile_pressure_level_10  (tp_y, tp_x) float32 ...\n",
       "    atmospheric_temperature_profile_pressure_level_11  (tp_y, tp_x) float32 ...\n",
       "    atmospheric_temperature_profile_pressure_level_12  (tp_y, tp_x) float32 ...\n",
       "    atmospheric_temperature_profile_pressure_level_13  (tp_y, tp_x) float32 ...\n",
       "    atmospheric_temperature_profile_pressure_level_14  (tp_y, tp_x) float32 ...\n",
       "    atmospheric_temperature_profile_pressure_level_15  (tp_y, tp_x) float32 ...\n",
       "    atmospheric_temperature_profile_pressure_level_16  (tp_y, tp_x) float32 ...\n",
       "    atmospheric_temperature_profile_pressure_level_17  (tp_y, tp_x) float32 ...\n",
       "    atmospheric_temperature_profile_pressure_level_18  (tp_y, tp_x) float32 ...\n",
       "    atmospheric_temperature_profile_pressure_level_19  (tp_y, tp_x) float32 ...\n",
       "    atmospheric_temperature_profile_pressure_level_20  (tp_y, tp_x) float32 ...\n",
       "    atmospheric_temperature_profile_pressure_level_21  (tp_y, tp_x) float32 ...\n",
       "    atmospheric_temperature_profile_pressure_level_22  (tp_y, tp_x) float32 ...\n",
       "    atmospheric_temperature_profile_pressure_level_23  (tp_y, tp_x) float32 ...\n",
       "    atmospheric_temperature_profile_pressure_level_24  (tp_y, tp_x) float32 ...\n",
       "    atmospheric_temperature_profile_pressure_level_25  (tp_y, tp_x) float32 ...\n",
       "    horizontal_wind_vector_1                           (tp_y, tp_x) float32 ...\n",
       "    horizontal_wind_vector_2                           (tp_y, tp_x) float32 ...\n",
       "    humidity                                           (tp_y, tp_x) float32 ...\n",
       "    sea_level_pressure                                 (tp_y, tp_x) float32 ...\n",
       "    total_columnar_water_vapour                        (tp_y, tp_x) float32 ...\n",
       "    total_ozone                                        (tp_y, tp_x) float32 ...\n",
       "    IDEPIX_INVALID_mask                                int8 ...\n",
       "    IDEPIX_CLOUD_mask                                  int8 ...\n",
       "    IDEPIX_CLOUD_AMBIGUOUS_mask                        int8 ...\n",
       "    IDEPIX_CLOUD_SURE_mask                             int8 ...\n",
       "    IDEPIX_CLOUD_BUFFER_mask                           int8 ...\n",
       "    IDEPIX_CLOUD_SHADOW_mask                           int8 ...\n",
       "    IDEPIX_SNOW_ICE_mask                               int8 ...\n",
       "    IDEPIX_BRIGHT_mask                                 int8 ...\n",
       "    IDEPIX_WHITE_mask                                  int8 ...\n",
       "    IDEPIX_COASTLINE_mask                              int8 ...\n",
       "    IDEPIX_LAND_mask                                   int8 ...\n",
       "    quality_flags_land_mask                            int8 ...\n",
       "    quality_flags_coastline_mask                       int8 ...\n",
       "    quality_flags_fresh_inland_water_mask              int8 ...\n",
       "    quality_flags_tidal_region_mask                    int8 ...\n",
       "    quality_flags_bright_mask                          int8 ...\n",
       "    quality_flags_straylight_risk_mask                 int8 ...\n",
       "    quality_flags_invalid_mask                         int8 ...\n",
       "    quality_flags_cosmetic_mask                        int8 ...\n",
       "    quality_flags_duplicated_mask                      int8 ...\n",
       "    quality_flags_sun_glint_risk_mask                  int8 ...\n",
       "    quality_flags_dubious_mask                         int8 ...\n",
       "    quality_flags_saturated_Oa01_mask                  int8 ...\n",
       "    quality_flags_saturated_Oa02_mask                  int8 ...\n",
       "    quality_flags_saturated_Oa03_mask                  int8 ...\n",
       "    quality_flags_saturated_Oa04_mask                  int8 ...\n",
       "    quality_flags_saturated_Oa05_mask                  int8 ...\n",
       "    quality_flags_saturated_Oa06_mask                  int8 ...\n",
       "    quality_flags_saturated_Oa07_mask                  int8 ...\n",
       "    quality_flags_saturated_Oa08_mask                  int8 ...\n",
       "    quality_flags_saturated_Oa09_mask                  int8 ...\n",
       "    quality_flags_saturated_Oa10_mask                  int8 ...\n",
       "    quality_flags_saturated_Oa11_mask                  int8 ...\n",
       "    quality_flags_saturated_Oa12_mask                  int8 ...\n",
       "    quality_flags_saturated_Oa13_mask                  int8 ...\n",
       "    quality_flags_saturated_Oa14_mask                  int8 ...\n",
       "    quality_flags_saturated_Oa15_mask                  int8 ...\n",
       "    quality_flags_saturated_Oa16_mask                  int8 ...\n",
       "    quality_flags_saturated_Oa17_mask                  int8 ...\n",
       "    quality_flags_saturated_Oa18_mask                  int8 ...\n",
       "    quality_flags_saturated_Oa19_mask                  int8 ...\n",
       "    quality_flags_saturated_Oa20_mask                  int8 ...\n",
       "    quality_flags_saturated_Oa21_mask                  int8 ...\n",
       "    Rtosa_OOS_mask                                     int8 ...\n",
       "    Rtosa_OOR_mask                                     int8 ...\n",
       "    Rhow_OOR_mask                                      int8 ...\n",
       "    Cloud_risk_mask                                    int8 ...\n",
       "    Iop_OOR_mask                                       int8 ...\n",
       "    Apig_at_max_mask                                   int8 ...\n",
       "    Adet_at_max_mask                                   int8 ...\n",
       "    Agelb_at_max_mask                                  int8 ...\n",
       "    Bpart_at_max_mask                                  int8 ...\n",
       "    Bwit_at_max_mask                                   int8 ...\n",
       "    Apig_at_min_mask                                   int8 ...\n",
       "    Adet_at_min_mask                                   int8 ...\n",
       "    Agelb_at_min_mask                                  int8 ...\n",
       "    Bpart_at_min_mask                                  int8 ...\n",
       "    Bwit_at_min_mask                                   int8 ...\n",
       "    Rhow_OOS_mask                                      int8 ...\n",
       "    Kd489_OOR_mask                                     int8 ...\n",
       "    Kdmin_OOR_mask                                     int8 ...\n",
       "    Kd489_at_max_mask                                  int8 ...\n",
       "    Kdmin_at_max_mask                                  int8 ...\n",
       "    Valid_PE_mask                                      int8 ...\n",
       "Attributes:\n",
       "    Conventions:           CF-1.4\n",
       "    TileSize:              128:4032\n",
       "    product_type:          C2RCC_OLCI\n",
       "    metadata_profile:      beam\n",
       "    metadata_version:      0.5\n",
       "    auto_grouping:         iop:conc:rtoa:rrs:rhown:kd:unc\n",
       "    tiepoint_coordinates:  TP_longitude TP_latitude\n",
       "    start_date:            01-JUL-2017 10:02:58.504298\n",
       "    stop_date:             01-JUL-2017 10:05:23.780581"
      ]
     },
     "execution_count": 4,
     "metadata": {},
     "output_type": "execute_result"
    }
   ],
   "source": [
    "dat"
   ]
  },
  {
   "cell_type": "code",
   "execution_count": 10,
   "metadata": {},
   "outputs": [
    {
     "data": {
      "text/plain": [
       "<matplotlib.image.AxesImage at 0x222162d21d0>"
      ]
     },
     "execution_count": 10,
     "metadata": {},
     "output_type": "execute_result"
    },
    {
     "data": {
      "image/png": "[encoded data removed]",
      "text/plain": [
       "<matplotlib.figure.Figure at 0x22200262978>"
      ]
     },
     "metadata": {},
     "output_type": "display_data"
    }
   ],
   "source": [
    "dat.lat.plot.imshow()"
   ]
  },
  {
   "cell_type": "code",
   "execution_count": null,
   "metadata": {},
   "outputs": [],
   "source": [
    "dat.rtoa_12.plot()\n"
   ]
  },
  {
   "cell_type": "code",
   "execution_count": null,
   "metadata": {
    "collapsed": true
   },
   "outputs": [],
   "source": []
  },
  {
   "cell_type": "code",
   "execution_count": 11,
   "metadata": {
    "collapsed": true,
    "scrolled": true
   },
   "outputs": [],
   "source": [
    "res = dat.chl_lov_bourgneuf.data\n",
    "ma_res = np.ma.array(res, mask =np.isnan(res))\n",
    "vmin = None\n",
    "vmax = None"
   ]
  },
  {
   "cell_type": "code",
   "execution_count": null,
   "metadata": {
    "collapsed": true
   },
   "outputs": [],
   "source": []
  },
  {
   "cell_type": "code",
   "execution_count": 12,
   "metadata": {},
   "outputs": [
    {
     "data": {
      "image/png": "[encoded data removed]",
      "text/plain": [
       "<matplotlib.figure.Figure at 0x2220025dcf8>"
      ]
     },
     "metadata": {},
     "output_type": "display_data"
    }
   ],
   "source": [
    "fig = plt.figure()\n",
    "#ax = fig.add_axes([0.05,0.05,0.9,0.9])\n",
    "#m = Basemap(projection='kav7',lon_0=54.,resolution='c')\n",
    "m = Basemap(projection='merc',llcrnrlat=-45,urcrnrlat=65,\\\n",
    "            llcrnrlon=-10,urcrnrlon=10,lat_ts=2,resolution='c')\n",
    "\n",
    "x,y = m(dat.lon.data,dat.lat.data)\n",
    "m.drawcoastlines()\n",
    "#m.drawmapboundary(fill_color='0.3')\n",
    "ccmap = plt.cm.jet\n",
    "#ccmap.set_bad(\"gray\",1.)\n",
    "im = m.pcolor(y,x,res,cmap=ccmap)\n"
   ]
  },
  {
   "cell_type": "code",
   "execution_count": null,
   "metadata": {},
   "outputs": [],
   "source": [
    "plt.imshow(res)"
   ]
  },
  {
   "cell_type": "code",
   "execution_count": null,
   "metadata": {
    "collapsed": true
   },
   "outputs": [],
   "source": [
    "\n",
    "x,y = m(dat.lon.data,dat.lat.data)"
   ]
  },
  {
   "cell_type": "code",
   "execution_count": null,
   "metadata": {},
   "outputs": [],
   "source": [
    "x."
   ]
  },
  {
   "cell_type": "code",
   "execution_count": null,
   "metadata": {
    "collapsed": true
   },
   "outputs": [],
   "source": []
  }
 ],
 "metadata": {
  "kernelspec": {
   "display_name": "Python 3",
   "language": "python",
   "name": "python3"
  },
  "language_info": {
   "codemirror_mode": {
    "name": "ipython",
    "version": 3
   },
   "file_extension": ".py",
   "mimetype": "text/x-python",
   "name": "python",
   "nbconvert_exporter": "python",
   "pygments_lexer": "ipython3",
   "version": "3.6.3"
  }
 },
 "nbformat": 4,
 "nbformat_minor": 2
}
